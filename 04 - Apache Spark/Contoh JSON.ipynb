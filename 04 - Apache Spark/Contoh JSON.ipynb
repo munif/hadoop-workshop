{
 "cells": [
  {
   "cell_type": "code",
   "execution_count": 1,
   "id": "621036e0-d29a-47c3-a5c1-18390288adf0",
   "metadata": {
    "execution": {
     "iopub.execute_input": "2022-06-29T07:46:29.412780Z",
     "iopub.status.busy": "2022-06-29T07:46:29.412780Z",
     "iopub.status.idle": "2022-06-29T07:46:38.519767Z",
     "shell.execute_reply": "2022-06-29T07:46:38.519767Z",
     "shell.execute_reply.started": "2022-06-29T07:46:29.412780Z"
    },
    "tags": []
   },
   "outputs": [],
   "source": [
    "from pyspark.sql import SparkSession\n",
    "\n",
    "spark = SparkSession \\\n",
    "    .builder \\\n",
    "    .master(\"local[*]\") \\\n",
    "    .appName(\"Python Spark SQL basic example\") \\\n",
    "    .config(\"spark.some.config.option\", \"some-value\") \\\n",
    "    .getOrCreate()"
   ]
  },
  {
   "cell_type": "code",
   "execution_count": 3,
   "id": "5f3b337d-5605-46f2-9953-1b21f576008e",
   "metadata": {
    "execution": {
     "iopub.execute_input": "2022-06-29T07:52:47.003045Z",
     "iopub.status.busy": "2022-06-29T07:52:47.003045Z",
     "iopub.status.idle": "2022-06-29T07:52:47.198245Z",
     "shell.execute_reply": "2022-06-29T07:52:47.198245Z",
     "shell.execute_reply.started": "2022-06-29T07:52:47.003045Z"
    },
    "tags": []
   },
   "outputs": [
    {
     "name": "stdout",
     "output_type": "stream",
     "text": [
      "+---+----+-------+\n",
      "|age|  id|   name|\n",
      "+---+----+-------+\n",
      "| 25|1201| satish|\n",
      "| 28|1202|krishna|\n",
      "| 39|1203|  amith|\n",
      "| 23|1204|  javed|\n",
      "| 23|1205| prudvi|\n",
      "+---+----+-------+\n",
      "\n"
     ]
    }
   ],
   "source": [
    "path = \"input.json\"\n",
    "peopleDF = spark.read.json(path)\n",
    "peopleDF.show()"
   ]
  },
  {
   "cell_type": "code",
   "execution_count": null,
   "id": "676907b5-a757-43df-98f5-97351e84d83e",
   "metadata": {},
   "outputs": [],
   "source": []
  }
 ],
 "metadata": {
  "kernelspec": {
   "display_name": "Python 3 (ipykernel)",
   "language": "python",
   "name": "python3"
  },
  "language_info": {
   "codemirror_mode": {
    "name": "ipython",
    "version": 3
   },
   "file_extension": ".py",
   "mimetype": "text/x-python",
   "name": "python",
   "nbconvert_exporter": "python",
   "pygments_lexer": "ipython3",
   "version": "3.9.12"
  }
 },
 "nbformat": 4,
 "nbformat_minor": 5
}
