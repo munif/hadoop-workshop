{
 "cells": [
  {
   "cell_type": "code",
   "execution_count": 1,
   "id": "4ca91099-29aa-4729-81ce-ebe2d08cd9c7",
   "metadata": {
    "execution": {
     "iopub.execute_input": "2022-06-29T07:20:24.449800Z",
     "iopub.status.busy": "2022-06-29T07:20:24.449800Z",
     "iopub.status.idle": "2022-06-29T07:20:33.711628Z",
     "shell.execute_reply": "2022-06-29T07:20:33.711628Z",
     "shell.execute_reply.started": "2022-06-29T07:20:24.449800Z"
    },
    "tags": []
   },
   "outputs": [],
   "source": [
    "# Membuat Spark Session\n",
    "\n",
    "from pyspark.sql import SparkSession\n",
    "\n",
    "spark = SparkSession \\\n",
    "    .builder \\\n",
    "    .master(\"local[*]\") \\\n",
    "    .appName(\"Python Spark SQL basic example\") \\\n",
    "    .config(\"spark.some.config.option\", \"some-value\") \\\n",
    "    .getOrCreate()"
   ]
  },
  {
   "cell_type": "code",
   "execution_count": null,
   "id": "4702a76d-82f3-4720-bea4-85c7344baf8e",
   "metadata": {
    "tags": []
   },
   "outputs": [],
   "source": [
    "print(spark)"
   ]
  },
  {
   "cell_type": "code",
   "execution_count": 2,
   "id": "02fa2311-b05a-4def-bffa-a3c57fb94ee2",
   "metadata": {
    "execution": {
     "iopub.execute_input": "2022-06-29T07:20:36.188611Z",
     "iopub.status.busy": "2022-06-29T07:20:36.188611Z",
     "iopub.status.idle": "2022-06-29T07:20:40.001516Z",
     "shell.execute_reply": "2022-06-29T07:20:40.001516Z",
     "shell.execute_reply.started": "2022-06-29T07:20:36.188611Z"
    },
    "tags": []
   },
   "outputs": [],
   "source": [
    "# Membaca file\n",
    "df_movies = spark.read.csv(\"ml-latest/movies.csv\", header=True, inferSchema=True)"
   ]
  },
  {
   "cell_type": "code",
   "execution_count": 8,
   "id": "40142a8c-3e37-42fc-a5a5-bb9218e75c46",
   "metadata": {
    "execution": {
     "iopub.execute_input": "2022-06-29T07:21:47.829663Z",
     "iopub.status.busy": "2022-06-29T07:21:47.829663Z",
     "iopub.status.idle": "2022-06-29T07:21:47.976548Z",
     "shell.execute_reply": "2022-06-29T07:21:47.976548Z",
     "shell.execute_reply.started": "2022-06-29T07:21:47.829663Z"
    },
    "tags": []
   },
   "outputs": [
    {
     "data": {
      "text/plain": [
       "58098"
      ]
     },
     "execution_count": 8,
     "metadata": {},
     "output_type": "execute_result"
    }
   ],
   "source": [
    "df_movies.count()"
   ]
  },
  {
   "cell_type": "code",
   "execution_count": 3,
   "id": "7a3288c0-1d8f-4f76-988e-57ce342b3c57",
   "metadata": {
    "execution": {
     "iopub.execute_input": "2022-06-29T07:20:41.877871Z",
     "iopub.status.busy": "2022-06-29T07:20:41.876894Z",
     "iopub.status.idle": "2022-06-29T07:20:42.070504Z",
     "shell.execute_reply": "2022-06-29T07:20:42.070504Z",
     "shell.execute_reply.started": "2022-06-29T07:20:41.877871Z"
    },
    "tags": []
   },
   "outputs": [
    {
     "name": "stdout",
     "output_type": "stream",
     "text": [
      "+-------+--------------------+--------------------+\n",
      "|movieId|               title|              genres|\n",
      "+-------+--------------------+--------------------+\n",
      "|      1|    Toy Story (1995)|Adventure|Animati...|\n",
      "|      2|      Jumanji (1995)|Adventure|Childre...|\n",
      "|      3|Grumpier Old Men ...|      Comedy|Romance|\n",
      "|      4|Waiting to Exhale...|Comedy|Drama|Romance|\n",
      "|      5|Father of the Bri...|              Comedy|\n",
      "|      6|         Heat (1995)|Action|Crime|Thri...|\n",
      "|      7|      Sabrina (1995)|      Comedy|Romance|\n",
      "|      8| Tom and Huck (1995)|  Adventure|Children|\n",
      "|      9| Sudden Death (1995)|              Action|\n",
      "|     10|    GoldenEye (1995)|Action|Adventure|...|\n",
      "|     11|American Presiden...|Comedy|Drama|Romance|\n",
      "|     12|Dracula: Dead and...|       Comedy|Horror|\n",
      "|     13|        Balto (1995)|Adventure|Animati...|\n",
      "|     14|        Nixon (1995)|               Drama|\n",
      "|     15|Cutthroat Island ...|Action|Adventure|...|\n",
      "|     16|       Casino (1995)|         Crime|Drama|\n",
      "|     17|Sense and Sensibi...|       Drama|Romance|\n",
      "|     18|   Four Rooms (1995)|              Comedy|\n",
      "|     19|Ace Ventura: When...|              Comedy|\n",
      "|     20|  Money Train (1995)|Action|Comedy|Cri...|\n",
      "+-------+--------------------+--------------------+\n",
      "only showing top 20 rows\n",
      "\n"
     ]
    }
   ],
   "source": [
    "df_movies.show()"
   ]
  },
  {
   "cell_type": "code",
   "execution_count": 4,
   "id": "c62eff44-a548-47b4-a2db-8dd9712041d5",
   "metadata": {
    "execution": {
     "iopub.execute_input": "2022-06-29T07:20:48.331717Z",
     "iopub.status.busy": "2022-06-29T07:20:48.331717Z",
     "iopub.status.idle": "2022-06-29T07:20:48.490681Z",
     "shell.execute_reply": "2022-06-29T07:20:48.490681Z",
     "shell.execute_reply.started": "2022-06-29T07:20:48.331717Z"
    },
    "tags": []
   },
   "outputs": [],
   "source": [
    "df_ratings = spark.read.csv(\"ml-latest/ratings.csv\", header=True)"
   ]
  },
  {
   "cell_type": "code",
   "execution_count": 6,
   "id": "959bfd83-d1e5-449d-862c-f123e21295be",
   "metadata": {
    "execution": {
     "iopub.execute_input": "2022-06-29T07:21:25.955769Z",
     "iopub.status.busy": "2022-06-29T07:21:25.955769Z",
     "iopub.status.idle": "2022-06-29T07:21:28.348087Z",
     "shell.execute_reply": "2022-06-29T07:21:28.348087Z",
     "shell.execute_reply.started": "2022-06-29T07:21:25.955769Z"
    }
   },
   "outputs": [
    {
     "data": {
      "text/plain": [
       "27753444"
      ]
     },
     "execution_count": 6,
     "metadata": {},
     "output_type": "execute_result"
    }
   ],
   "source": [
    "df_ratings.count()"
   ]
  },
  {
   "cell_type": "code",
   "execution_count": 5,
   "id": "54699f25-4126-4ed6-a419-c3db835821ae",
   "metadata": {
    "execution": {
     "iopub.execute_input": "2022-06-29T07:20:52.992067Z",
     "iopub.status.busy": "2022-06-29T07:20:52.992067Z",
     "iopub.status.idle": "2022-06-29T07:20:53.093572Z",
     "shell.execute_reply": "2022-06-29T07:20:53.093572Z",
     "shell.execute_reply.started": "2022-06-29T07:20:52.992067Z"
    },
    "tags": []
   },
   "outputs": [
    {
     "name": "stdout",
     "output_type": "stream",
     "text": [
      "+------+-------+------+----------+\n",
      "|userId|movieId|rating| timestamp|\n",
      "+------+-------+------+----------+\n",
      "|     1|    307|   3.5|1256677221|\n",
      "|     1|    481|   3.5|1256677456|\n",
      "|     1|   1091|   1.5|1256677471|\n",
      "|     1|   1257|   4.5|1256677460|\n",
      "|     1|   1449|   4.5|1256677264|\n",
      "|     1|   1590|   2.5|1256677236|\n",
      "|     1|   1591|   1.5|1256677475|\n",
      "|     1|   2134|   4.5|1256677464|\n",
      "|     1|   2478|   4.0|1256677239|\n",
      "|     1|   2840|   3.0|1256677500|\n",
      "|     1|   2986|   2.5|1256677496|\n",
      "|     1|   3020|   4.0|1256677260|\n",
      "|     1|   3424|   4.5|1256677444|\n",
      "|     1|   3698|   3.5|1256677243|\n",
      "|     1|   3826|   2.0|1256677210|\n",
      "|     1|   3893|   3.5|1256677486|\n",
      "|     2|    170|   3.5|1192913581|\n",
      "|     2|    849|   3.5|1192913537|\n",
      "|     2|   1186|   3.5|1192913611|\n",
      "|     2|   1235|   3.0|1192913585|\n",
      "+------+-------+------+----------+\n",
      "only showing top 20 rows\n",
      "\n"
     ]
    }
   ],
   "source": [
    "df_ratings.show()"
   ]
  },
  {
   "cell_type": "code",
   "execution_count": 9,
   "id": "43736ba7-fa94-4bdc-8844-eabe7f83d8c9",
   "metadata": {
    "execution": {
     "iopub.execute_input": "2022-06-29T07:21:59.129206Z",
     "iopub.status.busy": "2022-06-29T07:21:59.129206Z",
     "iopub.status.idle": "2022-06-29T07:21:59.256084Z",
     "shell.execute_reply": "2022-06-29T07:21:59.256084Z",
     "shell.execute_reply.started": "2022-06-29T07:21:59.129206Z"
    },
    "tags": []
   },
   "outputs": [],
   "source": [
    "df_movies.createOrReplaceTempView(\"movies\")\n",
    "df_ratings.createOrReplaceTempView(\"ratings\")"
   ]
  },
  {
   "cell_type": "code",
   "execution_count": 10,
   "id": "56a88e05-f9c9-4b5f-82bc-cff9a0b26df3",
   "metadata": {
    "execution": {
     "iopub.execute_input": "2022-06-29T07:22:02.645981Z",
     "iopub.status.busy": "2022-06-29T07:22:02.645006Z",
     "iopub.status.idle": "2022-06-29T07:22:02.769119Z",
     "shell.execute_reply": "2022-06-29T07:22:02.769119Z",
     "shell.execute_reply.started": "2022-06-29T07:22:02.645006Z"
    },
    "tags": []
   },
   "outputs": [],
   "source": [
    "hasil = spark.sql(\"SELECT ratings.movieId, movies.title, \\\n",
    "                   AVG(ratings.rating) as avg_rating\\\n",
    "                   FROM ratings \\\n",
    "                   INNER JOIN movies ON ratings.movieId = movies.movieId \\\n",
    "                   GROUP BY ratings.movieId, movies.title\")"
   ]
  },
  {
   "cell_type": "code",
   "execution_count": 11,
   "id": "06ae92d0-8330-4062-a0e3-0203da5ac5ee",
   "metadata": {
    "execution": {
     "iopub.execute_input": "2022-06-29T07:22:22.784444Z",
     "iopub.status.busy": "2022-06-29T07:22:22.784444Z",
     "iopub.status.idle": "2022-06-29T07:22:35.598989Z",
     "shell.execute_reply": "2022-06-29T07:22:35.598989Z",
     "shell.execute_reply.started": "2022-06-29T07:22:22.784444Z"
    },
    "tags": []
   },
   "outputs": [],
   "source": [
    "file_output = hasil.toPandas()\n",
    "file_output.to_csv(\"hasil-besar.csv\", index=False)"
   ]
  },
  {
   "cell_type": "code",
   "execution_count": 12,
   "id": "68b37267-ac57-48d5-97de-d0c1dfd03319",
   "metadata": {
    "execution": {
     "iopub.execute_input": "2022-06-29T07:22:35.600942Z",
     "iopub.status.busy": "2022-06-29T07:22:35.600942Z",
     "iopub.status.idle": "2022-06-29T07:22:47.271385Z",
     "shell.execute_reply": "2022-06-29T07:22:47.271385Z",
     "shell.execute_reply.started": "2022-06-29T07:22:35.600942Z"
    },
    "tags": []
   },
   "outputs": [
    {
     "data": {
      "text/plain": [
       "53889"
      ]
     },
     "execution_count": 12,
     "metadata": {},
     "output_type": "execute_result"
    }
   ],
   "source": [
    "hasil.count()"
   ]
  },
  {
   "cell_type": "code",
   "execution_count": 15,
   "id": "52a04467-325a-4941-8263-609a9a36fa54",
   "metadata": {
    "execution": {
     "iopub.execute_input": "2022-06-29T07:28:43.903902Z",
     "iopub.status.busy": "2022-06-29T07:28:43.903902Z",
     "iopub.status.idle": "2022-06-29T07:28:43.920501Z",
     "shell.execute_reply": "2022-06-29T07:28:43.919539Z",
     "shell.execute_reply.started": "2022-06-29T07:28:43.903902Z"
    },
    "tags": []
   },
   "outputs": [],
   "source": [
    "df_results = df_ratings.join(df_movies, \\\n",
    "                             df_ratings.movieId == df_movies.movieId, \\\n",
    "                             \"inner\")"
   ]
  },
  {
   "cell_type": "code",
   "execution_count": 31,
   "id": "8492f7fb-5c5d-4a27-bef1-9a7efd44f589",
   "metadata": {
    "execution": {
     "iopub.execute_input": "2022-06-29T07:37:21.144985Z",
     "iopub.status.busy": "2022-06-29T07:37:21.144985Z",
     "iopub.status.idle": "2022-06-29T07:37:31.695062Z",
     "shell.execute_reply": "2022-06-29T07:37:31.694086Z",
     "shell.execute_reply.started": "2022-06-29T07:37:21.144985Z"
    },
    "tags": []
   },
   "outputs": [
    {
     "name": "stdout",
     "output_type": "stream",
     "text": [
      "+--------------------+------------------+\n",
      "|               title|       avg(rating)|\n",
      "+--------------------+------------------+\n",
      "|Men in Black (a.k...| 3.578533203874726|\n",
      "|When We Were King...| 4.128795298726739|\n",
      "|Snow White and th...|3.5737629736905623|\n",
      "|       Psycho (1960)| 4.061855244697532|\n",
      "|   Annie Hall (1977)|  4.03722552312064|\n",
      "|Voices from the L...| 4.124444444444444|\n",
      "|       Quills (2000)| 3.529248366013072|\n",
      "|    Fair Game (1995)|2.3543191800878476|\n",
      "|Man Bites Dog (C'...|3.7407084785133566|\n",
      "|O Brother, Where ...|3.8708346493998738|\n",
      "|Heavenly Creature...|3.8160953978906997|\n",
      "|    Elizabeth (1998)| 3.847101932045303|\n",
      "|First Blood (Ramb...|3.5685894004282654|\n",
      "|Captain Corelli's...| 2.859545836837679|\n",
      "|Night of the Livi...|3.6201248049921997|\n",
      "|In the Heat of th...| 4.045863309352518|\n",
      "|Don't Tell Mom th...|2.7300925925925927|\n",
      "|Futurama: Into th...|3.7653333333333334|\n",
      "|  Thumbsucker (2005)| 3.435225618631732|\n",
      "|22 Jump Street (2...| 3.485540119081372|\n",
      "+--------------------+------------------+\n",
      "only showing top 20 rows\n",
      "\n"
     ]
    }
   ],
   "source": [
    "df_results.groupBy(\"title\").agg({'rating': 'avg'}).show()"
   ]
  },
  {
   "cell_type": "code",
   "execution_count": null,
   "id": "75c885e7-9011-437b-9f36-4c92496ff5f6",
   "metadata": {},
   "outputs": [],
   "source": []
  }
 ],
 "metadata": {
  "kernelspec": {
   "display_name": "Python 3 (ipykernel)",
   "language": "python",
   "name": "python3"
  },
  "language_info": {
   "codemirror_mode": {
    "name": "ipython",
    "version": 3
   },
   "file_extension": ".py",
   "mimetype": "text/x-python",
   "name": "python",
   "nbconvert_exporter": "python",
   "pygments_lexer": "ipython3",
   "version": "3.9.12"
  }
 },
 "nbformat": 4,
 "nbformat_minor": 5
}
